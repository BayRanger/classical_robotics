{
 "cells": [
  {
   "cell_type": "code",
   "execution_count": null,
   "metadata": {},
   "outputs": [],
   "source": [
    "%matplotlib inline\n",
    "\n",
    "import numpy as np\n",
    "import scipy as sp\n",
    "from matplotlib import pyplot as plt\n",
    "from math import *\n",
    "\n"
   ]
  },
  {
   "cell_type": "code",
   "execution_count": null,
   "metadata": {},
   "outputs": [],
   "source": [
    "\n",
    "\n",
    "\n",
    "\n",
    "#be careful about the unit\n",
    "def spline(u_0,u_via,u_fin,joint_name):\n",
    "    vel_0=0\n",
    "    vel_fin=0\n",
    "    t_fin=5\n",
    "    t_via=2.5\n",
    "    t_0=0\n",
    "    #u_0=u_0*180/pi\n",
    "    #u_via=u_via*180/pi\n",
    "    #u_fin=u_fin*180/pi\n",
    "    #vel_fin=vel_fin*180/pi\n",
    "    #just in the special condition\n",
    "    #classified discussion of the velocity direction \n",
    "    if (u_via-u_0)*(u_fin-u_via)<0:\n",
    "        vel_via=0\n",
    "    else:\n",
    "        vel_via=(u_fin-u_0)/(t_fin-t_0)\n",
    "    a0=u_0\n",
    "    a1=vel_0\n",
    "    a2=3.0/t_via**2*(u_via-u_0)-2.0/t_via*vel_0-1.0/t_via*vel_via\n",
    "    a3=-2.0/t_via**3*(u_via-u_0)+1.0/(t_via**2)*(vel_0+vel_via)\n",
    "    #a1 is the velocity \n",
    "    b0=u_via\n",
    "    b1=vel_via\n",
    "    b2=3.0/(t_fin-t_via)**2*(u_fin-u_via)-2.0/(t_fin-t_via)*vel_via-1.0/(t_fin-t_via)*vel_fin\n",
    "    b3=-2.0/(t_fin-t_via)**3*(u_fin-u_via)+1.0/(t_fin-t_via)**2*(vel_via+vel_fin)\n",
    "    t1 = np.linspace(t_0, t_via , 1001)\n",
    "    t2=np.linspace(t_via,t_fin,1001)[1:]\n",
    "    t=np.append(t1,t2)\n",
    "    cubic1=a0+a1*t1+a2*t1**2+a3*t1**3\n",
    "    cubic2=b0+b1*(t2-t_via)+b2*(t2-t_via)**2+b3*(t2-t_via)**3\n",
    "    cubic=np.append(cubic1,cubic2)\n",
    "    plt.plot(t,cubic,label=joint_name)\n",
    "    plt.legend()\n",
    "    plt.xlabel('time[s]')\n",
    "    plt.ylabel('joint angle position[radian]')\n",
    "    return a0,a1,a2,a3,b0,b1,b2,b3"
   ]
  },
  {
   "cell_type": "code",
   "execution_count": 16,
   "metadata": {
    "scrolled": false
   },
   "outputs": [
    {
     "data": {
      "image/png": "[encoded data removed]",
      "text/plain": [
       "<Figure size 720x360 with 1 Axes>"
      ]
     },
     "metadata": {
      "needs_background": "light"
     },
     "output_type": "display_data"
    }
   ],
   "source": [
    "plt.figure(figsize=[10,5])\n",
    "index1=spline(0,-0.25*pi,-0.5*pi,'joint 1')\n",
    "index2=spline(0,0.5*pi,0.25*pi,'joint 2')\n",
    "index3=spline(0,0,0,'joint 3')\n",
    "plt.savefig('spline.pdf')"
   ]
  },
  {
   "cell_type": "code",
   "execution_count": 17,
   "metadata": {},
   "outputs": [
    {
     "name": "stdout",
     "output_type": "stream",
     "text": [
      "(0, 0, -0.2513274122871834, 0.05026548245743669, -0.7853981633974483, -0.3141592653589793, -0.12566370614359168, 0.05026548245743669)\n",
      "(0, 0, 0.7539822368615503, -0.20106192982974677, 1.5707963267948966, 0, -0.37699111843077515, 0.10053096491487339)\n",
      "(0, 0, 0.0, 0.0, 0, 0.0, 0.0, 0.0)\n"
     ]
    }
   ],
   "source": [
    "print(index1)\n",
    "print(index2)\n",
    "print(index3)"
   ]
  },
  {
   "cell_type": "code",
   "execution_count": 5,
   "metadata": {},
   "outputs": [],
   "source": [
    "s=sin(0.1)\n",
    "c=cos(0.1)\n",
    "l1 = 0.4318 - 0.0203\n",
    "l2 = 0.4331\n",
    "l3 = 0.055\n",
    "j1=[[l2,l2,0],[l1-l3,-l3,-l3],[1,1,1]]\n",
    "j2=[[l2+c*l3,l2+c*l3,c*l3],[s*l3,s*l3,s*l3],[1.0,1.0,1.0]]\n",
    "j3=[[l1-l2-l3,-l2-l3,-l3],[0,0,0],[1.0,1.0,1.0]]"
   ]
  },
  {
   "cell_type": "code",
   "execution_count": 6,
   "metadata": {},
   "outputs": [
    {
     "data": {
      "text/plain": [
       "0.0"
      ]
     },
     "execution_count": 6,
     "metadata": {},
     "output_type": "execute_result"
    }
   ],
   "source": [
    "np.linalg.det(j1)\n",
    "np.linalg.det(j2)"
   ]
  },
  {
   "cell_type": "code",
   "execution_count": 7,
   "metadata": {},
   "outputs": [
    {
     "data": {
      "text/plain": [
       "-0.17822065"
      ]
     },
     "execution_count": 7,
     "metadata": {},
     "output_type": "execute_result"
    }
   ],
   "source": [
    "np.linalg.det(j1)"
   ]
  },
  {
   "cell_type": "code",
   "execution_count": 8,
   "metadata": {},
   "outputs": [],
   "source": [
    "c=cos(0.1)"
   ]
  },
  {
   "cell_type": "code",
   "execution_count": 9,
   "metadata": {},
   "outputs": [
    {
     "data": {
      "text/plain": [
       "[[0.4878252290902914, 0.4878252290902914, 0.054725229090291413],\n",
       " [0.005490837915575549, 0.005490837915575549, 0.005490837915575549],\n",
       " [1.0, 1.0, 1.0]]"
      ]
     },
     "execution_count": 9,
     "metadata": {},
     "output_type": "execute_result"
    }
   ],
   "source": [
    "j2"
   ]
  },
  {
   "cell_type": "code",
   "execution_count": 10,
   "metadata": {},
   "outputs": [
    {
     "data": {
      "text/plain": [
       "[[-0.07659999999999995, -0.4881, -0.055], [0, 0, 0], [1.0, 1.0, 1.0]]"
      ]
     },
     "execution_count": 10,
     "metadata": {},
     "output_type": "execute_result"
    }
   ],
   "source": [
    "j3"
   ]
  },
  {
   "cell_type": "code",
   "execution_count": 11,
   "metadata": {},
   "outputs": [
    {
     "data": {
      "text/plain": [
       "0.41150000000000003"
      ]
     },
     "execution_count": 11,
     "metadata": {},
     "output_type": "execute_result"
    }
   ],
   "source": [
    "l1"
   ]
  },
  {
   "cell_type": "code",
   "execution_count": 12,
   "metadata": {},
   "outputs": [
    {
     "data": {
      "text/plain": [
       "0.4331"
      ]
     },
     "execution_count": 12,
     "metadata": {},
     "output_type": "execute_result"
    }
   ],
   "source": [
    "l2"
   ]
  },
  {
   "cell_type": "code",
   "execution_count": 13,
   "metadata": {},
   "outputs": [
    {
     "data": {
      "text/plain": [
       "0.055"
      ]
     },
     "execution_count": 13,
     "metadata": {},
     "output_type": "execute_result"
    }
   ],
   "source": [
    "l3"
   ]
  },
  {
   "cell_type": "code",
   "execution_count": 14,
   "metadata": {},
   "outputs": [
    {
     "ename": "NameError",
     "evalue": "name 'det' is not defined",
     "output_type": "error",
     "traceback": [
      "\u001b[0;31m---------------------------------------------------------------------------\u001b[0m",
      "\u001b[0;31mNameError\u001b[0m                                 Traceback (most recent call last)",
      "\u001b[0;32m<ipython-input-14-aaafa25aefdc>\u001b[0m in \u001b[0;36m<module>\u001b[0;34m\u001b[0m\n\u001b[0;32m----> 1\u001b[0;31m \u001b[0mdet\u001b[0m\u001b[0;34m(\u001b[0m\u001b[0mj2\u001b[0m\u001b[0;34m)\u001b[0m\u001b[0;34m\u001b[0m\u001b[0;34m\u001b[0m\u001b[0m\n\u001b[0m",
      "\u001b[0;31mNameError\u001b[0m: name 'det' is not defined"
     ]
    }
   ],
   "source": [
    "det(j2)"
   ]
  },
  {
   "cell_type": "code",
   "execution_count": null,
   "metadata": {},
   "outputs": [],
   "source": []
  }
 ],
 "metadata": {
  "kernelspec": {
   "display_name": "Python 3",
   "language": "python",
   "name": "python3"
  },
  "language_info": {
   "codemirror_mode": {
    "name": "ipython",
    "version": 3
   },
   "file_extension": ".py",
   "mimetype": "text/x-python",
   "name": "python",
   "nbconvert_exporter": "python",
   "pygments_lexer": "ipython3",
   "version": "3.7.3"
  }
 },
 "nbformat": 4,
 "nbformat_minor": 2
}
